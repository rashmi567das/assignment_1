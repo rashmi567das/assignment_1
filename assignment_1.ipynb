{
 "cells": [
  {
   "cell_type": "code",
   "execution_count": 1,
   "id": "6bc3fcd2-ecce-441b-b164-f5152848af71",
   "metadata": {},
   "outputs": [],
   "source": [
    "x = 5"
   ]
  },
  {
   "cell_type": "code",
   "execution_count": 2,
   "id": "4b95cf68-f461-47b6-bc84-9a0d392f455a",
   "metadata": {},
   "outputs": [],
   "source": [
    "y = 10"
   ]
  },
  {
   "cell_type": "code",
   "execution_count": 3,
   "id": "4b2ee9b9-b5bf-40ba-9582-ced5085ed8a1",
   "metadata": {},
   "outputs": [
    {
     "name": "stdout",
     "output_type": "stream",
     "text": [
      "x: 5 and y: 10\n"
     ]
    }
   ],
   "source": [
    "print(f\"x: {x} and y: {y}\")"
   ]
  },
  {
   "cell_type": "code",
   "execution_count": 4,
   "id": "2f8c561c-2672-4a6e-af4d-0ad689203100",
   "metadata": {},
   "outputs": [
    {
     "name": "stdout",
     "output_type": "stream",
     "text": [
      "x: 10 and y: 10\n"
     ]
    }
   ],
   "source": [
    "print(f\"x: {y} and y: {y}\")"
   ]
  },
  {
   "cell_type": "code",
   "execution_count": 5,
   "id": "0359fa1a-c773-467d-8f37-973458e49532",
   "metadata": {},
   "outputs": [
    {
     "name": "stdin",
     "output_type": "stream",
     "text": [
      " 10\n"
     ]
    }
   ],
   "source": [
    "length = float(input())"
   ]
  },
  {
   "cell_type": "code",
   "execution_count": 6,
   "id": "992ba14b-aeb0-4204-b8b2-49dba8478c37",
   "metadata": {},
   "outputs": [
    {
     "data": {
      "text/plain": [
       "10.0"
      ]
     },
     "execution_count": 6,
     "metadata": {},
     "output_type": "execute_result"
    }
   ],
   "source": [
    "length"
   ]
  },
  {
   "cell_type": "code",
   "execution_count": 7,
   "id": "ff70d366-85c6-426f-9c2e-3b7c78c22f9e",
   "metadata": {},
   "outputs": [
    {
     "name": "stdin",
     "output_type": "stream",
     "text": [
      " 15\n"
     ]
    }
   ],
   "source": [
    "width = float(input())"
   ]
  },
  {
   "cell_type": "code",
   "execution_count": 8,
   "id": "030ffced-c035-46cd-abe2-a24cef79604e",
   "metadata": {},
   "outputs": [
    {
     "data": {
      "text/plain": [
       "15.0"
      ]
     },
     "execution_count": 8,
     "metadata": {},
     "output_type": "execute_result"
    }
   ],
   "source": [
    "width"
   ]
  },
  {
   "cell_type": "code",
   "execution_count": 9,
   "id": "5341342d-e95c-4ff1-ad0f-5b25b9e19411",
   "metadata": {},
   "outputs": [],
   "source": [
    "area = length * width"
   ]
  },
  {
   "cell_type": "code",
   "execution_count": 10,
   "id": "5ceb8e37-d742-4324-8fe8-432931ab564a",
   "metadata": {},
   "outputs": [
    {
     "data": {
      "text/plain": [
       "150.0"
      ]
     },
     "execution_count": 10,
     "metadata": {},
     "output_type": "execute_result"
    }
   ],
   "source": [
    "area"
   ]
  },
  {
   "cell_type": "code",
   "execution_count": 11,
   "id": "07934bb5-1384-4864-9ada-537f7f177afd",
   "metadata": {},
   "outputs": [
    {
     "name": "stdin",
     "output_type": "stream",
     "text": [
      " 20\n"
     ]
    }
   ],
   "source": [
    "celsius_temperature = float(input())"
   ]
  },
  {
   "cell_type": "code",
   "execution_count": 12,
   "id": "f463d5d3-bd2b-4ddc-937e-c54898558871",
   "metadata": {},
   "outputs": [
    {
     "data": {
      "text/plain": [
       "20.0"
      ]
     },
     "execution_count": 12,
     "metadata": {},
     "output_type": "execute_result"
    }
   ],
   "source": [
    "celsius_temperature"
   ]
  },
  {
   "cell_type": "code",
   "execution_count": 13,
   "id": "bd2cafae-6960-4132-b41c-df8c43f79fce",
   "metadata": {},
   "outputs": [],
   "source": [
    "fahrenheit_temperature = (celsius_temperature * 9/5) + 32"
   ]
  },
  {
   "cell_type": "code",
   "execution_count": 14,
   "id": "bbe0334c-6718-4eac-b939-aa0d9b1c35f2",
   "metadata": {},
   "outputs": [
    {
     "name": "stdout",
     "output_type": "stream",
     "text": [
      "20.0 celsius is equal to 68.00 fahrenheit\n"
     ]
    }
   ],
   "source": [
    "print(f\"{celsius_temperature} celsius is equal to {fahrenheit_temperature:.2f} fahrenheit\")"
   ]
  },
  {
   "cell_type": "code",
   "execution_count": 17,
   "id": "080c018d-808e-497e-8760-c9671fa67604",
   "metadata": {},
   "outputs": [
    {
     "name": "stdin",
     "output_type": "stream",
     "text": [
      " rashmi\n"
     ]
    }
   ],
   "source": [
    "input_string = input()"
   ]
  },
  {
   "cell_type": "code",
   "execution_count": 18,
   "id": "c9809c67-644f-4c36-8107-4341725794dc",
   "metadata": {},
   "outputs": [
    {
     "data": {
      "text/plain": [
       "'rashmi'"
      ]
     },
     "execution_count": 18,
     "metadata": {},
     "output_type": "execute_result"
    }
   ],
   "source": [
    "input_string"
   ]
  },
  {
   "cell_type": "code",
   "execution_count": 19,
   "id": "c2ac165d-ecc2-42e2-82f1-a7c20919eb7a",
   "metadata": {},
   "outputs": [],
   "source": [
    "string_length = len(input_string)"
   ]
  },
  {
   "cell_type": "code",
   "execution_count": 20,
   "id": "0745d3ce-eed1-42d9-a8a0-f2005512d12f",
   "metadata": {},
   "outputs": [
    {
     "data": {
      "text/plain": [
       "6"
      ]
     },
     "execution_count": 20,
     "metadata": {},
     "output_type": "execute_result"
    }
   ],
   "source": [
    "string_length"
   ]
  },
  {
   "cell_type": "code",
   "execution_count": 21,
   "id": "b2480711-1bb8-4f2a-b83c-10f680d21624",
   "metadata": {},
   "outputs": [
    {
     "name": "stdin",
     "output_type": "stream",
     "text": [
      " this is my first python class\n"
     ]
    }
   ],
   "source": [
    "sentence = input()"
   ]
  },
  {
   "cell_type": "code",
   "execution_count": 22,
   "id": "b0d9df34-c094-4fe5-9a1e-a3052dc38dbd",
   "metadata": {},
   "outputs": [
    {
     "data": {
      "text/plain": [
       "'this is my first python class'"
      ]
     },
     "execution_count": 22,
     "metadata": {},
     "output_type": "execute_result"
    }
   ],
   "source": [
    "sentence"
   ]
  },
  {
   "cell_type": "code",
   "execution_count": 23,
   "id": "d0a9ad33-f2ec-4ab4-b6af-baf1726cbe3e",
   "metadata": {},
   "outputs": [],
   "source": [
    "vowel_count = 0"
   ]
  },
  {
   "cell_type": "code",
   "execution_count": 24,
   "id": "bf919768-7df4-4f4b-8ed7-beb5c0397339",
   "metadata": {},
   "outputs": [],
   "source": [
    "vowels_list = ['i', 'i', 'i', 'o', 'a']"
   ]
  },
  {
   "cell_type": "code",
   "execution_count": 26,
   "id": "d8c851a8-270d-4d60-9380-f5637c283d00",
   "metadata": {},
   "outputs": [],
   "source": [
    "vowel_count += 1"
   ]
  },
  {
   "cell_type": "code",
   "execution_count": 27,
   "id": "7c95a112-7485-4bdb-85d2-6526efb746ae",
   "metadata": {},
   "outputs": [],
   "source": [
    "vowel_count = 5"
   ]
  },
  {
   "cell_type": "code",
   "execution_count": 28,
   "id": "03695862-5303-48a4-9bc8-27f1c2bc0d88",
   "metadata": {},
   "outputs": [
    {
     "name": "stdout",
     "output_type": "stream",
     "text": [
      "number of vowels: 5\n"
     ]
    }
   ],
   "source": [
    "print(\"number of vowels:\", vowel_count)"
   ]
  },
  {
   "cell_type": "code",
   "execution_count": 29,
   "id": "5315167d-cdbc-4268-947a-d4ff9089231c",
   "metadata": {},
   "outputs": [
    {
     "data": {
      "text/plain": [
       "'this is my first python class'"
      ]
     },
     "execution_count": 29,
     "metadata": {},
     "output_type": "execute_result"
    }
   ],
   "source": [
    "sentence"
   ]
  },
  {
   "cell_type": "code",
   "execution_count": 30,
   "id": "23552662-642d-4017-a8a4-301852cbaf31",
   "metadata": {},
   "outputs": [
    {
     "name": "stdin",
     "output_type": "stream",
     "text": [
      " pwskills\n"
     ]
    }
   ],
   "source": [
    "input_string = input()"
   ]
  },
  {
   "cell_type": "code",
   "execution_count": 31,
   "id": "d507fb62-71a6-4751-8c22-8e8598fd1f55",
   "metadata": {},
   "outputs": [],
   "source": [
    "reverse_string = input_string[::-1]"
   ]
  },
  {
   "cell_type": "code",
   "execution_count": 32,
   "id": "3f4a1b6c-1c01-4169-b434-d0c1af8a2213",
   "metadata": {},
   "outputs": [
    {
     "name": "stdout",
     "output_type": "stream",
     "text": [
      "Reversed string: sllikswp\n"
     ]
    }
   ],
   "source": [
    "print(\"Reversed string:\", reverse_string)"
   ]
  },
  {
   "cell_type": "code",
   "execution_count": 33,
   "id": "bee018f9-82e1-4905-9b28-98d36f8fc45f",
   "metadata": {},
   "outputs": [
    {
     "data": {
      "text/plain": [
       "'pwskills'"
      ]
     },
     "execution_count": 33,
     "metadata": {},
     "output_type": "execute_result"
    }
   ],
   "source": [
    "input_string"
   ]
  },
  {
   "cell_type": "code",
   "execution_count": 35,
   "id": "eee84405-f584-4202-bdc6-8fad6d48fe8f",
   "metadata": {},
   "outputs": [
    {
     "name": "stdin",
     "output_type": "stream",
     "text": [
      " madam\n"
     ]
    }
   ],
   "source": [
    "input_string = input()"
   ]
  },
  {
   "cell_type": "code",
   "execution_count": 36,
   "id": "89a577a9-219a-4bf6-99a0-23aacbd9cabf",
   "metadata": {},
   "outputs": [],
   "source": [
    "cleaned_string = input_string.replace(\" \", \" \").lower()"
   ]
  },
  {
   "cell_type": "code",
   "execution_count": 37,
   "id": "c6d7511f-25bc-4c93-9ea4-bbff3ac6b9b1",
   "metadata": {},
   "outputs": [
    {
     "data": {
      "text/plain": [
       "'madam'"
      ]
     },
     "execution_count": 37,
     "metadata": {},
     "output_type": "execute_result"
    }
   ],
   "source": [
    "cleaned_string"
   ]
  },
  {
   "cell_type": "code",
   "execution_count": 38,
   "id": "50885567-899e-4eb3-a81a-493b5da9770f",
   "metadata": {},
   "outputs": [
    {
     "data": {
      "text/plain": [
       "'madam'"
      ]
     },
     "execution_count": 38,
     "metadata": {},
     "output_type": "execute_result"
    }
   ],
   "source": [
    "input_string"
   ]
  },
  {
   "cell_type": "code",
   "execution_count": 39,
   "id": "8960ac64-746b-46b0-af9a-cae4c404cd82",
   "metadata": {},
   "outputs": [],
   "source": [
    "reversed_string = cleaned_string[::-1]"
   ]
  },
  {
   "cell_type": "code",
   "execution_count": 40,
   "id": "110b592d-10d1-4d85-8bfc-9fdd27b5aef5",
   "metadata": {},
   "outputs": [
    {
     "data": {
      "text/plain": [
       "'madam'"
      ]
     },
     "execution_count": 40,
     "metadata": {},
     "output_type": "execute_result"
    }
   ],
   "source": [
    "reversed_string"
   ]
  },
  {
   "cell_type": "code",
   "execution_count": 41,
   "id": "bc6efb23-0fc9-4bdf-ad24-386d5e503ac1",
   "metadata": {},
   "outputs": [
    {
     "data": {
      "text/plain": [
       "True"
      ]
     },
     "execution_count": 41,
     "metadata": {},
     "output_type": "execute_result"
    }
   ],
   "source": [
    "cleaned_string == reversed_string"
   ]
  },
  {
   "cell_type": "code",
   "execution_count": 42,
   "id": "bedf2d71-d234-42f8-8c49-ac2977401a92",
   "metadata": {},
   "outputs": [
    {
     "name": "stdout",
     "output_type": "stream",
     "text": [
      "The input string is a palindrome.\n"
     ]
    }
   ],
   "source": [
    "print(\"The input string is a palindrome.\")"
   ]
  },
  {
   "cell_type": "code",
   "execution_count": 46,
   "id": "7a5d2fd6-31cf-487e-85e2-be92cb3e19e1",
   "metadata": {},
   "outputs": [
    {
     "name": "stdin",
     "output_type": "stream",
     "text": [
      " hello\n"
     ]
    }
   ],
   "source": [
    "input_string = input()"
   ]
  },
  {
   "cell_type": "code",
   "execution_count": 47,
   "id": "91565035-cb29-4a59-9dfa-7aa5c46a638d",
   "metadata": {},
   "outputs": [],
   "source": [
    "modified_string = \" \""
   ]
  },
  {
   "cell_type": "code",
   "execution_count": 56,
   "id": "5afea3a3-dd3c-4482-9595-22a399df0dfe",
   "metadata": {},
   "outputs": [],
   "source": [
    "char = \"hello\""
   ]
  },
  {
   "cell_type": "code",
   "execution_count": 57,
   "id": "fc8e569c-4ac3-4f4e-8cc7-404f8ceb30bc",
   "metadata": {},
   "outputs": [],
   "source": [
    "modified_string += char"
   ]
  },
  {
   "cell_type": "code",
   "execution_count": 59,
   "id": "de909770-6489-4645-8884-968052532879",
   "metadata": {},
   "outputs": [
    {
     "name": "stdout",
     "output_type": "stream",
     "text": [
      "modified string without space:  hello\n"
     ]
    }
   ],
   "source": [
    "print(\"modified string without space:\", modified_string)"
   ]
  },
  {
   "cell_type": "code",
   "execution_count": null,
   "id": "fdf21051-787c-4752-b943-dbe59089c236",
   "metadata": {},
   "outputs": [],
   "source": []
  }
 ],
 "metadata": {
  "kernelspec": {
   "display_name": "Python 3 (ipykernel)",
   "language": "python",
   "name": "python3"
  },
  "language_info": {
   "codemirror_mode": {
    "name": "ipython",
    "version": 3
   },
   "file_extension": ".py",
   "mimetype": "text/x-python",
   "name": "python",
   "nbconvert_exporter": "python",
   "pygments_lexer": "ipython3",
   "version": "3.10.8"
  }
 },
 "nbformat": 4,
 "nbformat_minor": 5
}
